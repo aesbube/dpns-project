{
 "cells": [
  {
   "cell_type": "code",
   "execution_count": null,
   "id": "b7872167-09e1-4656-8a5a-ef4fb4152d17",
   "metadata": {},
   "outputs": [
    {
     "name": "stderr",
     "output_type": "stream",
     "text": [
      "Using cache found in C:\\Users\\PC/.cache\\torch\\hub\\pytorch_vision_v0.10.0\n"
     ]
    },
    {
     "name": "stdout",
     "output_type": "stream",
     "text": [
      "Testing model with 50 epochs:\n",
      "Accuracy: 0.0809347773001771\n",
      "Testing model with 100 epochs:\n",
      "Accuracy: 0.13323644903342985\n"
     ]
    }
   ],
   "source": [
    "from deeplabv3_model import deeplabv3_model\n",
    "from testing import test\n",
    "\n",
    "model = deeplabv3_model()\n",
    "\n",
    "model_path1 = 'models\\deeplabv3\\deeplabv3_model_50.pth'\n",
    "results_path1 = 'results_deeplabv3_50'\n",
    "print(\"Testing model with 50 epochs:\")\n",
    "test(model_path1, results_path1, model, True)\n",
    "\n",
    "\n",
    "model_path2 = 'models\\deeplabv3\\deeplabv3_model_100.pth'\n",
    "results_path2 = 'results_deeplabv3_100'\n",
    "print(\"Testing model with 100 epochs:\")\n",
    "test(model_path2, results_path2, model, True)"
   ]
  }
 ],
 "metadata": {
  "language_info": {
   "codemirror_mode": {
    "name": "ipython",
    "version": 3
   },
   "file_extension": ".py",
   "mimetype": "text/x-python",
   "name": "python",
   "nbconvert_exporter": "python",
   "pygments_lexer": "ipython3",
   "version": 3
  }
 },
 "nbformat": 4,
 "nbformat_minor": 2
}
